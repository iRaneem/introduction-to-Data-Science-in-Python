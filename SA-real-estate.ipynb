{
 "cells":[
  {
   "cell_type":"code",
   "source":[
    "import pandas as pd\n",
    "import numpy as np\n",
    "import matplotlib.pyplot as plt\n",
    "import seaborn as sns"
   ],
   "execution_count":8,
   "outputs":[
    
   ],
   "metadata":{
    "datalore":{
     "type":"CODE",
     "hide_input_from_viewers":false,
     "hide_output_from_viewers":false,
     "node_id":"yUloCPfUKDpus6yrld0qjC"
    }
   }
  },
  {
   "cell_type":"code",
   "source":[
    "#reading saudi arabia real estate database provided at kaggle\n",
    "df = pd.read_csv('SA_Aqar.csv')"
   ],
   "execution_count":9,
   "outputs":[
    
   ],
   "metadata":{
    "datalore":{
     "type":"CODE",
     "hide_input_from_viewers":false,
     "hide_output_from_viewers":false,
     "node_id":"0hu6DVB0BXNvrhmbrWNpDu"
    }
   }
  },
  {
   "cell_type":"code",
   "source":[
    "df.sort_values(by='price',ascending=False).head(5)"
   ],
   "execution_count":10,
   "outputs":[
    {
     "data":{
      "text\/html":[
       "<div>\n",
       "<style scoped>\n",
       "    .dataframe tbody tr th:only-of-type {\n",
       "        vertical-align: middle;\n",
       "    }\n",
       "\n",
       "    .dataframe tbody tr th {\n",
       "        vertical-align: top;\n",
       "    }\n",
       "\n",
       "    .dataframe thead th {\n",
       "        text-align: right;\n",
       "    }\n",
       "<\/style>\n",
       "<table border=\"1\" class=\"dataframe\">\n",
       "  <thead>\n",
       "    <tr style=\"text-align: right;\">\n",
       "      <th><\/th>\n",
       "      <th>city<\/th>\n",
       "      <th>district<\/th>\n",
       "      <th>front<\/th>\n",
       "      <th>size<\/th>\n",
       "      <th>property_age<\/th>\n",
       "      <th>bedrooms<\/th>\n",
       "      <th>bathrooms<\/th>\n",
       "      <th>livingrooms<\/th>\n",
       "      <th>kitchen<\/th>\n",
       "      <th>garage<\/th>\n",
       "      <th>...<\/th>\n",
       "      <th>roof<\/th>\n",
       "      <th>pool<\/th>\n",
       "      <th>frontyard<\/th>\n",
       "      <th>basement<\/th>\n",
       "      <th>duplex<\/th>\n",
       "      <th>stairs<\/th>\n",
       "      <th>elevator<\/th>\n",
       "      <th>fireplace<\/th>\n",
       "      <th>price<\/th>\n",
       "      <th>details<\/th>\n",
       "    <\/tr>\n",
       "  <\/thead>\n",
       "  <tbody>\n",
       "    <tr>\n",
       "      <th>1206<\/th>\n",
       "      <td>جدة<\/td>\n",
       "      <td>حي الروضة<\/td>\n",
       "      <td>شمال<\/td>\n",
       "      <td>2500<\/td>\n",
       "      <td>0<\/td>\n",
       "      <td>5<\/td>\n",
       "      <td>5<\/td>\n",
       "      <td>5<\/td>\n",
       "      <td>1<\/td>\n",
       "      <td>1<\/td>\n",
       "      <td>...<\/td>\n",
       "      <td>1<\/td>\n",
       "      <td>0<\/td>\n",
       "      <td>1<\/td>\n",
       "      <td>1<\/td>\n",
       "      <td>0<\/td>\n",
       "      <td>1<\/td>\n",
       "      <td>1<\/td>\n",
       "      <td>0<\/td>\n",
       "      <td>1700000<\/td>\n",
       "      <td>العقار فيه مميزات كثير له وله تراخيص جاهزه مجه...<\/td>\n",
       "    <\/tr>\n",
       "    <tr>\n",
       "      <th>1168<\/th>\n",
       "      <td>جدة<\/td>\n",
       "      <td>حي الحمدانية<\/td>\n",
       "      <td>3 شوارع<\/td>\n",
       "      <td>300<\/td>\n",
       "      <td>0<\/td>\n",
       "      <td>5<\/td>\n",
       "      <td>5<\/td>\n",
       "      <td>3<\/td>\n",
       "      <td>1<\/td>\n",
       "      <td>1<\/td>\n",
       "      <td>...<\/td>\n",
       "      <td>1<\/td>\n",
       "      <td>0<\/td>\n",
       "      <td>1<\/td>\n",
       "      <td>1<\/td>\n",
       "      <td>0<\/td>\n",
       "      <td>1<\/td>\n",
       "      <td>1<\/td>\n",
       "      <td>1<\/td>\n",
       "      <td>1300000<\/td>\n",
       "      <td>فيلا فاخرة حي الحمدانيه\\nمكونات المشروع دورين ...<\/td>\n",
       "    <\/tr>\n",
       "    <tr>\n",
       "      <th>1974<\/th>\n",
       "      <td>الدمام<\/td>\n",
       "      <td>حي ضاحية الملك فهد<\/td>\n",
       "      <td>شمال<\/td>\n",
       "      <td>250<\/td>\n",
       "      <td>0<\/td>\n",
       "      <td>5<\/td>\n",
       "      <td>5<\/td>\n",
       "      <td>1<\/td>\n",
       "      <td>1<\/td>\n",
       "      <td>1<\/td>\n",
       "      <td>...<\/td>\n",
       "      <td>1<\/td>\n",
       "      <td>0<\/td>\n",
       "      <td>1<\/td>\n",
       "      <td>0<\/td>\n",
       "      <td>0<\/td>\n",
       "      <td>1<\/td>\n",
       "      <td>0<\/td>\n",
       "      <td>0<\/td>\n",
       "      <td>800000<\/td>\n",
       "      <td>دبلوكس في الضاحيه مكون من 3ادوار ارضي مجالس ال...<\/td>\n",
       "    <\/tr>\n",
       "    <tr>\n",
       "      <th>417<\/th>\n",
       "      <td>الرياض<\/td>\n",
       "      <td>حي طويق<\/td>\n",
       "      <td>شرق<\/td>\n",
       "      <td>400<\/td>\n",
       "      <td>32<\/td>\n",
       "      <td>5<\/td>\n",
       "      <td>3<\/td>\n",
       "      <td>1<\/td>\n",
       "      <td>1<\/td>\n",
       "      <td>1<\/td>\n",
       "      <td>...<\/td>\n",
       "      <td>0<\/td>\n",
       "      <td>0<\/td>\n",
       "      <td>1<\/td>\n",
       "      <td>0<\/td>\n",
       "      <td>0<\/td>\n",
       "      <td>0<\/td>\n",
       "      <td>0<\/td>\n",
       "      <td>0<\/td>\n",
       "      <td>800000<\/td>\n",
       "      <td>فيلا دور دور مساحه ٤٠٠ متر على شارعين شرقيه وش...<\/td>\n",
       "    <\/tr>\n",
       "    <tr>\n",
       "      <th>950<\/th>\n",
       "      <td>الرياض<\/td>\n",
       "      <td>حي الاسكان<\/td>\n",
       "      <td>غرب<\/td>\n",
       "      <td>250<\/td>\n",
       "      <td>0<\/td>\n",
       "      <td>3<\/td>\n",
       "      <td>3<\/td>\n",
       "      <td>2<\/td>\n",
       "      <td>1<\/td>\n",
       "      <td>1<\/td>\n",
       "      <td>...<\/td>\n",
       "      <td>0<\/td>\n",
       "      <td>0<\/td>\n",
       "      <td>1<\/td>\n",
       "      <td>0<\/td>\n",
       "      <td>1<\/td>\n",
       "      <td>1<\/td>\n",
       "      <td>0<\/td>\n",
       "      <td>1<\/td>\n",
       "      <td>800000<\/td>\n",
       "      <td>دبلكسات متلاصقة\\nمساحات من ٢٤٥ الى ٢٥٠ م \\nشار...<\/td>\n",
       "    <\/tr>\n",
       "  <\/tbody>\n",
       "<\/table>\n",
       "<p>5 rows × 24 columns<\/p>\n",
       "<\/div>"
      ]
     },
     "metadata":{
      
     },
     "output_type":"display_data"
    }
   ],
   "metadata":{
    "datalore":{
     "type":"CODE",
     "hide_input_from_viewers":false,
     "hide_output_from_viewers":false,
     "node_id":"FlLZHVk9WR05IdOWyzEXMI"
    }
   }
  },
  {
   "cell_type":"code",
   "source":[
    "#Describe the data\n",
    "df.describe()"
   ],
   "execution_count":11,
   "outputs":[
    {
     "data":{
      "text\/html":[
       "<div>\n",
       "<style scoped>\n",
       "    .dataframe tbody tr th:only-of-type {\n",
       "        vertical-align: middle;\n",
       "    }\n",
       "\n",
       "    .dataframe tbody tr th {\n",
       "        vertical-align: top;\n",
       "    }\n",
       "\n",
       "    .dataframe thead th {\n",
       "        text-align: right;\n",
       "    }\n",
       "<\/style>\n",
       "<table border=\"1\" class=\"dataframe\">\n",
       "  <thead>\n",
       "    <tr style=\"text-align: right;\">\n",
       "      <th><\/th>\n",
       "      <th>size<\/th>\n",
       "      <th>property_age<\/th>\n",
       "      <th>bedrooms<\/th>\n",
       "      <th>bathrooms<\/th>\n",
       "      <th>livingrooms<\/th>\n",
       "      <th>kitchen<\/th>\n",
       "      <th>garage<\/th>\n",
       "      <th>driver_room<\/th>\n",
       "      <th>maid_room<\/th>\n",
       "      <th>furnished<\/th>\n",
       "      <th>ac<\/th>\n",
       "      <th>roof<\/th>\n",
       "      <th>pool<\/th>\n",
       "      <th>frontyard<\/th>\n",
       "      <th>basement<\/th>\n",
       "      <th>duplex<\/th>\n",
       "      <th>stairs<\/th>\n",
       "      <th>elevator<\/th>\n",
       "      <th>fireplace<\/th>\n",
       "      <th>price<\/th>\n",
       "    <\/tr>\n",
       "  <\/thead>\n",
       "  <tbody>\n",
       "    <tr>\n",
       "      <th>count<\/th>\n",
       "      <td>3718.000000<\/td>\n",
       "      <td>3718.000000<\/td>\n",
       "      <td>3718.000000<\/td>\n",
       "      <td>3718.000000<\/td>\n",
       "      <td>3718.000000<\/td>\n",
       "      <td>3718.000000<\/td>\n",
       "      <td>3718.000000<\/td>\n",
       "      <td>3718.000000<\/td>\n",
       "      <td>3718.000000<\/td>\n",
       "      <td>3718.000000<\/td>\n",
       "      <td>3718.000000<\/td>\n",
       "      <td>3718.000000<\/td>\n",
       "      <td>3718.000000<\/td>\n",
       "      <td>3718.000000<\/td>\n",
       "      <td>3718.000000<\/td>\n",
       "      <td>3718.000000<\/td>\n",
       "      <td>3718.000000<\/td>\n",
       "      <td>3718.000000<\/td>\n",
       "      <td>3718.000000<\/td>\n",
       "      <td>3.718000e+03<\/td>\n",
       "    <\/tr>\n",
       "    <tr>\n",
       "      <th>mean<\/th>\n",
       "      <td>390.968531<\/td>\n",
       "      <td>5.064820<\/td>\n",
       "      <td>5.083916<\/td>\n",
       "      <td>4.606509<\/td>\n",
       "      <td>2.243948<\/td>\n",
       "      <td>0.909360<\/td>\n",
       "      <td>0.802044<\/td>\n",
       "      <td>0.495697<\/td>\n",
       "      <td>0.795320<\/td>\n",
       "      <td>0.123453<\/td>\n",
       "      <td>0.560785<\/td>\n",
       "      <td>0.521517<\/td>\n",
       "      <td>0.162453<\/td>\n",
       "      <td>0.802582<\/td>\n",
       "      <td>0.034158<\/td>\n",
       "      <td>0.499462<\/td>\n",
       "      <td>0.814416<\/td>\n",
       "      <td>0.080958<\/td>\n",
       "      <td>0.181280<\/td>\n",
       "      <td>8.738797e+04<\/td>\n",
       "    <\/tr>\n",
       "    <tr>\n",
       "      <th>std<\/th>\n",
       "      <td>1565.056135<\/td>\n",
       "      <td>7.590427<\/td>\n",
       "      <td>1.230040<\/td>\n",
       "      <td>0.703449<\/td>\n",
       "      <td>0.916436<\/td>\n",
       "      <td>0.287135<\/td>\n",
       "      <td>0.398512<\/td>\n",
       "      <td>0.500049<\/td>\n",
       "      <td>0.403522<\/td>\n",
       "      <td>0.329001<\/td>\n",
       "      <td>0.496358<\/td>\n",
       "      <td>0.499604<\/td>\n",
       "      <td>0.368915<\/td>\n",
       "      <td>0.398104<\/td>\n",
       "      <td>0.181660<\/td>\n",
       "      <td>0.500067<\/td>\n",
       "      <td>0.388823<\/td>\n",
       "      <td>0.272807<\/td>\n",
       "      <td>0.385302<\/td>\n",
       "      <td>7.063470e+04<\/td>\n",
       "    <\/tr>\n",
       "    <tr>\n",
       "      <th>min<\/th>\n",
       "      <td>1.000000<\/td>\n",
       "      <td>0.000000<\/td>\n",
       "      <td>1.000000<\/td>\n",
       "      <td>1.000000<\/td>\n",
       "      <td>1.000000<\/td>\n",
       "      <td>0.000000<\/td>\n",
       "      <td>0.000000<\/td>\n",
       "      <td>0.000000<\/td>\n",
       "      <td>0.000000<\/td>\n",
       "      <td>0.000000<\/td>\n",
       "      <td>0.000000<\/td>\n",
       "      <td>0.000000<\/td>\n",
       "      <td>0.000000<\/td>\n",
       "      <td>0.000000<\/td>\n",
       "      <td>0.000000<\/td>\n",
       "      <td>0.000000<\/td>\n",
       "      <td>0.000000<\/td>\n",
       "      <td>0.000000<\/td>\n",
       "      <td>0.000000<\/td>\n",
       "      <td>1.000000e+03<\/td>\n",
       "    <\/tr>\n",
       "    <tr>\n",
       "      <th>25%<\/th>\n",
       "      <td>280.000000<\/td>\n",
       "      <td>0.000000<\/td>\n",
       "      <td>4.000000<\/td>\n",
       "      <td>4.000000<\/td>\n",
       "      <td>2.000000<\/td>\n",
       "      <td>1.000000<\/td>\n",
       "      <td>1.000000<\/td>\n",
       "      <td>0.000000<\/td>\n",
       "      <td>1.000000<\/td>\n",
       "      <td>0.000000<\/td>\n",
       "      <td>0.000000<\/td>\n",
       "      <td>0.000000<\/td>\n",
       "      <td>0.000000<\/td>\n",
       "      <td>1.000000<\/td>\n",
       "      <td>0.000000<\/td>\n",
       "      <td>0.000000<\/td>\n",
       "      <td>1.000000<\/td>\n",
       "      <td>0.000000<\/td>\n",
       "      <td>0.000000<\/td>\n",
       "      <td>5.500000e+04<\/td>\n",
       "    <\/tr>\n",
       "    <tr>\n",
       "      <th>50%<\/th>\n",
       "      <td>330.000000<\/td>\n",
       "      <td>2.000000<\/td>\n",
       "      <td>5.000000<\/td>\n",
       "      <td>5.000000<\/td>\n",
       "      <td>2.000000<\/td>\n",
       "      <td>1.000000<\/td>\n",
       "      <td>1.000000<\/td>\n",
       "      <td>0.000000<\/td>\n",
       "      <td>1.000000<\/td>\n",
       "      <td>0.000000<\/td>\n",
       "      <td>1.000000<\/td>\n",
       "      <td>1.000000<\/td>\n",
       "      <td>0.000000<\/td>\n",
       "      <td>1.000000<\/td>\n",
       "      <td>0.000000<\/td>\n",
       "      <td>0.000000<\/td>\n",
       "      <td>1.000000<\/td>\n",
       "      <td>0.000000<\/td>\n",
       "      <td>0.000000<\/td>\n",
       "      <td>7.000000e+04<\/td>\n",
       "    <\/tr>\n",
       "    <tr>\n",
       "      <th>75%<\/th>\n",
       "      <td>400.000000<\/td>\n",
       "      <td>7.000000<\/td>\n",
       "      <td>6.000000<\/td>\n",
       "      <td>5.000000<\/td>\n",
       "      <td>3.000000<\/td>\n",
       "      <td>1.000000<\/td>\n",
       "      <td>1.000000<\/td>\n",
       "      <td>1.000000<\/td>\n",
       "      <td>1.000000<\/td>\n",
       "      <td>0.000000<\/td>\n",
       "      <td>1.000000<\/td>\n",
       "      <td>1.000000<\/td>\n",
       "      <td>0.000000<\/td>\n",
       "      <td>1.000000<\/td>\n",
       "      <td>0.000000<\/td>\n",
       "      <td>1.000000<\/td>\n",
       "      <td>1.000000<\/td>\n",
       "      <td>0.000000<\/td>\n",
       "      <td>0.000000<\/td>\n",
       "      <td>1.000000e+05<\/td>\n",
       "    <\/tr>\n",
       "    <tr>\n",
       "      <th>max<\/th>\n",
       "      <td>95000.000000<\/td>\n",
       "      <td>36.000000<\/td>\n",
       "      <td>7.000000<\/td>\n",
       "      <td>5.000000<\/td>\n",
       "      <td>5.000000<\/td>\n",
       "      <td>1.000000<\/td>\n",
       "      <td>1.000000<\/td>\n",
       "      <td>1.000000<\/td>\n",
       "      <td>1.000000<\/td>\n",
       "      <td>1.000000<\/td>\n",
       "      <td>1.000000<\/td>\n",
       "      <td>1.000000<\/td>\n",
       "      <td>1.000000<\/td>\n",
       "      <td>1.000000<\/td>\n",
       "      <td>1.000000<\/td>\n",
       "      <td>1.000000<\/td>\n",
       "      <td>1.000000<\/td>\n",
       "      <td>1.000000<\/td>\n",
       "      <td>1.000000<\/td>\n",
       "      <td>1.700000e+06<\/td>\n",
       "    <\/tr>\n",
       "  <\/tbody>\n",
       "<\/table>\n",
       "<\/div>"
      ]
     },
     "metadata":{
      
     },
     "output_type":"display_data"
    }
   ],
   "metadata":{
    "datalore":{
     "type":"CODE",
     "hide_input_from_viewers":false,
     "hide_output_from_viewers":false,
     "node_id":"Eav4NFxkrfqZ5Uck4IrKmH"
    }
   }
  },
  {
   "cell_type":"code",
   "source":[
    "\n",
    "df.isna().sum()"
   ],
   "execution_count":12,
   "outputs":[
    {
     "data":{
      "text\/html":[
       
      ]
     },
     "metadata":{
      
     },
     "output_type":"display_data"
    }
   ],
   "metadata":{
    "datalore":{
     "type":"CODE",
     "hide_input_from_viewers":false,
     "hide_output_from_viewers":false,
     "node_id":"uxn3tW6V1tKtV2dUkUZ4AD"
    }
   }
  },
  {
   "cell_type":"code",
   "source":[
    "#distplot for the price\n",
    "plt.figure(figsize=(10,6))\n",
    "sns.distplot(df['price'])"
   ],
   "execution_count":13,
   "outputs":[
    {
     "name":"stderr",
     "text":[
      "\/opt\/python\/envs\/default\/lib\/python3.8\/site-packages\/seaborn\/distributions.py:2619: FutureWarning: `distplot` is a deprecated function and will be removed in a future version. Please adapt your code to use either `displot` (a figure-level function with similar flexibility) or `histplot` (an axes-level function for histograms).\n",
      "  warnings.warn(msg, FutureWarning)\n"
     ],
     "output_type":"stream"
    },
    {
     "data":{
      "text\/plain":[
       "<AxesSubplot:xlabel='price', ylabel='Density'>"
      ]
     },
     "metadata":{
      
     },
     "output_type":"display_data"
    },
    {
     "data":{
      "image\/png":"[encoded data removed]"
     },
     "metadata":{
      "image\/png":{
       
      }
     },
     "output_type":"display_data"
    }
   ],
   "metadata":{
    "datalore":{
     "type":"CODE",
     "hide_input_from_viewers":false,
     "hide_output_from_viewers":false,
     "node_id":"LQH186HiwzOnQYw5E2Z7TS"
    }
   }
  },
  {
   "cell_type":"code",
   "source":[
    "#Countplot for the number of bedrooms\n",
    "sns.countplot(df['bedrooms'],palette='Blues')"
   ],
   "execution_count":15,
   "outputs":[
    {
     "name":"stderr",
     "text":[
      "\/opt\/python\/envs\/default\/lib\/python3.8\/site-packages\/seaborn\/_decorators.py:36: FutureWarning: Pass the following variable as a keyword arg: x. From version 0.12, the only valid positional argument will be `data`, and passing other arguments without an explicit keyword will result in an error or misinterpretation.\n",
      "  warnings.warn(\n"
     ],
     "output_type":"stream"
    },
    {
     "data":{
      "text\/plain":[
       "<AxesSubplot:xlabel='bedrooms', ylabel='count'>"
      ]
     },
     "metadata":{
      
     },
     "output_type":"display_data"
    },
    {
     "data":{
      "image\/png":"[encoded data removed]"
     },
     "metadata":{
      "image\/png":{
       
      }
     },
     "output_type":"display_data"
    }
   ],
   "metadata":{
    "datalore":{
     "type":"CODE",
     "hide_input_from_viewers":false,
     "hide_output_from_viewers":false,
     "node_id":"nz5Pfmoy3Y0gsr0SBfq886"
    }
   }
  },
  {
   "cell_type":"markdown",
   "source":[
    "###  check if there any relationship between no of bedrooms & rental price"
   ],
   "attachments":{
    
   },
   "metadata":{
    "datalore":{
     "type":"MD",
     "hide_input_from_viewers":false,
     "hide_output_from_viewers":false,
     "node_id":"ylO0fTInvpMTLsErcQTYca"
    }
   }
  },
  {
   "cell_type":"code",
   "source":[
    "#Boxplot comparing number of bedrooms with rental price\n",
    "sns.boxplot(x='bedrooms',y='price',data=df)"
   ],
   "execution_count":3,
   "outputs":[
    {
     "data":{
      "text\/plain":[
       "<AxesSubplot:xlabel='bedrooms', ylabel='price'>"
      ]
     },
     "metadata":{
      
     },
     "output_type":"display_data"
    },
    {
     "data":{
      "image\/png":"[encoded data removed]"
     },
     "metadata":{
      "image\/png":{
       
      }
     },
     "output_type":"display_data"
    }
   ],
   "metadata":{
    "datalore":{
     "type":"CODE",
     "hide_input_from_viewers":false,
     "hide_output_from_viewers":false,
     "node_id":"tTO7Aj19GXpGSjPnUdfng4"
    }
   }
  },
  {
   "cell_type":"code",
   "source":[
    "sns.barplot(x='bedrooms',y='price',data=df)"
   ],
   "execution_count":5,
   "outputs":[
    {
     "data":{
      "text\/plain":[
       "<AxesSubplot:xlabel='bedrooms', ylabel='price'>"
      ]
     },
     "metadata":{
      
     },
     "output_type":"display_data"
    },
    {
     "data":{
      "image\/png":"[encoded data removed]"
     },
     "metadata":{
      "image\/png":{
       
      }
     },
     "output_type":"display_data"
    }
   ],
   "metadata":{
    "datalore":{
     "type":"CODE",
     "hide_input_from_viewers":false,
     "hide_output_from_viewers":false,
     "node_id":"yCaNwzdizMS83fbOQf2yJy"
    }
   }
  }
 ],
 "metadata":{
  "kernelspec":{
   "display_name":"Python",
   "language":"python",
   "name":"python"
  },
  "datalore":{
   "version":1,
   "computation_mode":"JUPYTER",
   "package_manager":"pip",
   "base_environment":"default",
   "packages":[
    
   ]
  }
 },
 "nbformat":4,
 "nbformat_minor":4
}